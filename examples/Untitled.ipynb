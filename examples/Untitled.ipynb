{
 "cells": [
  {
   "cell_type": "code",
   "execution_count": 1,
   "metadata": {},
   "outputs": [],
   "source": [
    "using PolyChaos"
   ]
  },
  {
   "cell_type": "code",
   "execution_count": 2,
   "metadata": {},
   "outputs": [
    {
     "name": "stdout",
     "output_type": "stream",
     "text": [
      "\n",
      "\u001b[4mUnivariate orthogonal polynomials\u001b[24m\n",
      "name:\u001b[94m\t\tgaussian\u001b[39m\n",
      "degree:\u001b[0m\t\t2\n",
      "#coeffs:\u001b[0m\t20\n",
      "α =\u001b[0m\t\t[0.0, 0.0, 0.0, 0.0, 0.0, 0.0, 0.0]...\n",
      "β =\u001b[0m\t\t[1.0, 1.0, 2.0, 3.0, 4.0, 5.0, 6.0]...\n",
      "\n",
      "\u001b[4mMeasure dλ(t)=w(t)dt\u001b[24m\n",
      "name:\t\t\u001b[94mgaussian\u001b[39m\n",
      "w(t):\t\tPolyChaos.w_gaussian\n",
      "dom:\t\t(-Inf, Inf)\n",
      "symmetric:\t\u001b[32mtrue\u001b[39m\n",
      "\n",
      "\u001b[4mQuadrature rule\u001b[24m\n"
     ]
    },
    {
     "data": {
      "text/plain": []
     },
     "execution_count": 2,
     "metadata": {},
     "output_type": "execute_result"
    },
    {
     "name": "stdout",
     "output_type": "stream",
     "text": [
      "name:\u001b[94m\t\tgaussian\u001b[39m\n",
      "N:\u001b[0m\t\t20\n",
      "nodes\u001b[0m\t\t[-7.61905, -6.51059, -5.57874, -4.73458, -3.94397, -3.18901, -2.45866]...\n",
      "weights\u001b[0m\t\t[1.2578e-13, 2.48206e-10, 6.12749e-8, 4.40212e-6, 0.000128826, 0.0018301, 0.0139978]...\n"
     ]
    }
   ],
   "source": [
    "deg, Nrec = 2, 20\n",
    "op = OrthoPoly(\"gaussian\",deg;Nrec=Nrec)\n",
    "opq = OrthoPolyQ(op)"
   ]
  },
  {
   "cell_type": "code",
   "execution_count": 3,
   "metadata": {},
   "outputs": [
    {
     "data": {
      "text/plain": []
     },
     "execution_count": 3,
     "metadata": {},
     "output_type": "execute_result"
    },
    {
     "name": "stdout",
     "output_type": "stream",
     "text": [
      "\n",
      "\u001b[4m3-dimensional tensor\u001b[24m\n",
      "dim:\u001b[0m\t\t3\n",
      "nonzeros:\u001b[0m\t5\n",
      "\n",
      "\u001b[4mUnivariate orthogonal polynomials\u001b[24m\n",
      "name:\u001b[94m\t\tgaussian\u001b[39m\n",
      "degree:\u001b[0m\t\t2\n",
      "#coeffs:\u001b[0m\t20\n",
      "α =\u001b[0m\t\t[0.0, 0.0, 0.0, 0.0, 0.0, 0.0, 0.0]...\n",
      "β =\u001b[0m\t\t[1.0, 1.0, 2.0, 3.0, 4.0, 5.0, 6.0]...\n",
      "\n",
      "\u001b[4mMeasure dλ(t)=w(t)dt\u001b[24m\n",
      "name:\t\t\u001b[94mgaussian\u001b[39m\n",
      "w(t):\t\tPolyChaos.w_gaussian\n",
      "dom:\t\t(-Inf, Inf)\n",
      "symmetric:\t\u001b[32mtrue\u001b[39m\n",
      "\n",
      "\u001b[4mQuadrature rule\u001b[24m\n",
      "name:\u001b[94m\t\tgaussian\u001b[39m\n",
      "N:\u001b[0m\t\t20\n",
      "nodes\u001b[0m\t\t[-7.61905, -6.51059, -5.57874, -4.73458, -3.94397, -3.18901, -2.45866]...\n",
      "weights\u001b[0m\t\t[1.2578e-13, 2.48206e-10, 6.12749e-8, 4.40212e-6, 0.000128826, 0.0018301, 0.0139978]...\n"
     ]
    }
   ],
   "source": [
    "t2 = Tensor(2,opq)\n",
    "t3 = Tensor(3,opq)"
   ]
  },
  {
   "cell_type": "code",
   "execution_count": 4,
   "metadata": {},
   "outputs": [
    {
     "name": "stdout",
     "output_type": "stream",
     "text": [
      "L = dim(opq) = 3\n"
     ]
    },
    {
     "data": {
      "text/plain": [
       "3-element Array{Float64,1}:\n",
       " 0.0\n",
       " 1.0\n",
       " 0.0"
      ]
     },
     "execution_count": 4,
     "metadata": {},
     "output_type": "execute_result"
    }
   ],
   "source": [
    "@show L = dim(opq)\n",
    "mu, sig = 0., 1.\n",
    "x = [ ext2int_aff(\"gaussian\",mu,sig); zeros(Float64,L-2) ]"
   ]
  },
  {
   "cell_type": "code",
   "execution_count": 8,
   "metadata": {},
   "outputs": [
    {
     "data": {
      "text/plain": [
       "3-element Array{Float64,1}:\n",
       " 1.0               \n",
       " 0.0               \n",
       " 1.0000000000000175"
      ]
     },
     "execution_count": 8,
     "metadata": {},
     "output_type": "execute_result"
    }
   ],
   "source": [
    "y = [ sum( x[i]*x[j]*t3.get([i-1,j-1,m-1])/t2.get([m-1,m-1])  for i=1:L, j=1:L ) for m=1:L ]"
   ]
  },
  {
   "cell_type": "markdown",
   "metadata": {},
   "source": [
    "Let's compare the moments"
   ]
  },
  {
   "cell_type": "code",
   "execution_count": 20,
   "metadata": {},
   "outputs": [
    {
     "name": "stdout",
     "output_type": "stream",
     "text": [
      "Expected value:\t\t1.0 = 1.0\terror = 0.0\n",
      "Standard deviation:\t1.4142135623730951 = 1.4142135623731198\terror = -2.4646951146678475e-14\n"
     ]
    }
   ],
   "source": [
    "k = 1\n",
    "moments_analytic = [k, sqrt(2k), sqrt(8/k)]\n",
    "\n",
    "\n",
    "mystd(y) = sqrt( sum( y[l]^2*t2.get([l-1,l-1]) for l=2:L ) )\n",
    "\n",
    "function myskew(y)\n",
    "   e3 = sum( y[i]*y[j]*y[k]*t3.get([i-1,j-1,k-1]) for i=1:L,j=1:L,k=1:L )\n",
    "   μ = y[1]\n",
    "   σ = mystd(y)\n",
    "   (e3-3*μ*σ^2-μ^3)/(σ^3)\n",
    "end\n",
    "\n",
    "print(\"Expected value:\\t\\t$(moments_analytic[1]) = $(y[1])\\terror = $(abs(y[1]-moments_analytic[1]))\\n\")\n",
    "print(\"Standard deviation:\\t$(moments_analytic[2]) = $(mystd(y))\\terror = $(moments_analytic[2]-mystd(y))\\n\")\n",
    "print(\"Skewness deviation:\\t$(moments_analytic[2]) = $(mystd(y))\\terror = $(moments_analytic[2]-mystd(y))\\n\")\n",
    "\n",
    "\n"
   ]
  },
  {
   "cell_type": "code",
   "execution_count": 9,
   "metadata": {},
   "outputs": [
    {
     "ename": "InitError",
     "evalue": "InitError: LoadError: SystemError: opening file /Users/till/.julia/packages/Plots/ex9On/src/backends/../../deps/plotly-latest.min.js: No such file or directory\nin expression starting at /Users/till/.julia/packages/Plots/ex9On/src/backends/plotly.jl:79\nduring initialization of module Plots",
     "output_type": "error",
     "traceback": [
      "InitError: LoadError: SystemError: opening file /Users/till/.julia/packages/Plots/ex9On/src/backends/../../deps/plotly-latest.min.js: No such file or directory\nin expression starting at /Users/till/.julia/packages/Plots/ex9On/src/backends/plotly.jl:79\nduring initialization of module Plots",
      "",
      "Stacktrace:",
      " [1] #systemerror#39(::Nothing, ::Function, ::String, ::Bool) at ./error.jl:106",
      " [2] systemerror at ./error.jl:106 [inlined]",
      " [3] #open#297(::Bool, ::Nothing, ::Nothing, ::Nothing, ::Nothing, ::Function, ::String) at ./iostream.jl:283",
      " [4] #open at ./none:0 [inlined]",
      " [5] open(::String, ::String) at ./iostream.jl:339",
      " [6] #open#298(::Base.Iterators.Pairs{Union{},Union{},Tuple{},NamedTuple{(),Tuple{}}}, ::Function, ::typeof(read), ::String, ::Vararg{String,N} where N) at ./iostream.jl:367",
      " [7] open(::Function, ::String, ::String) at ./iostream.jl:367",
      " [8] top-level scope at none:0",
      " [9] include at ./boot.jl:317 [inlined]",
      " [10] include_relative(::Module, ::String) at ./loading.jl:1038",
      " [11] include at ./sysimg.jl:29 [inlined]",
      " [12] include at /Users/till/.julia/packages/Plots/ex9On/src/Plots.jl:1 [inlined]",
      " [13] __init__() at /Users/till/.julia/packages/Plots/ex9On/src/init.jl:2",
      " [14] _include_from_serialized(::String, ::Array{Any,1}) at ./loading.jl:627",
      " [15] macro expansion at ./logging.jl:312 [inlined]",
      " [16] _require_search_from_serialized(::Base.PkgId, ::String) at ./loading.jl:698",
      " [17] _require(::Base.PkgId) at ./loading.jl:931",
      " [18] require(::Base.PkgId) at ./loading.jl:852",
      " [19] macro expansion at ./logging.jl:311 [inlined]",
      " [20] require(::Module, ::Symbol) at ./loading.jl:834",
      " [21] top-level scope at In[9]:1"
     ]
    }
   ],
   "source": [
    "using Plots, Distributions\n",
    "dist = Chisq(1)"
   ]
  },
  {
   "cell_type": "code",
   "execution_count": 10,
   "metadata": {},
   "outputs": [
    {
     "ename": "UndefVarError",
     "evalue": "UndefVarError: plotlyjs not defined",
     "output_type": "error",
     "traceback": [
      "UndefVarError: plotlyjs not defined",
      "",
      "Stacktrace:",
      " [1] top-level scope at In[10]:1"
     ]
    }
   ],
   "source": [
    "plotlyjs()\n",
    "x = rand(10)\n",
    "plot(x)"
   ]
  },
  {
   "cell_type": "code",
   "execution_count": null,
   "metadata": {},
   "outputs": [],
   "source": []
  }
 ],
 "metadata": {
  "kernelspec": {
   "display_name": "Julia 0.7.0",
   "language": "julia",
   "name": "julia-0.7"
  },
  "language_info": {
   "file_extension": ".jl",
   "mimetype": "application/julia",
   "name": "julia",
   "version": "0.7.0"
  }
 },
 "nbformat": 4,
 "nbformat_minor": 2
}
