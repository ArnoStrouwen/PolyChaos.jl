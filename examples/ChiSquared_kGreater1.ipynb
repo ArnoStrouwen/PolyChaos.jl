{
 "cells": [
  {
   "cell_type": "markdown",
   "metadata": {},
   "source": [
    "# Chi-squared Distribution ($k>1$)\n",
    "\n",
    "\n",
    "## Theory\n",
    "Given $k$ standard random variables $X_i \\sim \\mathcal{N}(0,1)$ for $i=1,\\dots,k$ we would like to find the random variable $Y = \\sum_{i=1}^k X_i^2$.\n",
    "The analytic solution is known: $Y$ follows a chi-squared distribution with $k$ degrees of freedom.\n",
    "\n",
    "Using polynomial chaos expansion (PCE), the problem can be solved using Galerkin projection.\n",
    "Let $\\{\\phi_k \\}_{k=0}^{n}$ be the monic orthogonal basis relative to the probability density of $X = [X_1, \\dots, X_k]$, namely\n",
    "$$\n",
    "f_X(x) =  \\prod_{i=1}^k \\frac{1}{\\sqrt{2 \\pi}} \\, \\exp \\left( - \\frac{x_i^2}{2} \\right).\n",
    "$$\n",
    "Then, the PCE of $X_i$ is given by\n",
    "$$\n",
    "X_i = \\sum_{k=0}^n x_{i,k} \\phi_k,\n",
    "$$\n",
    "with\n",
    "$$\n",
    "x_{i,0} = 0, \\quad x_{i,i+1} = 1, \\quad x_{i,l} = 0 \\quad \\forall l \\in \\{1,\\dots,n\\} \\setminus \\{i+1\\}.\n",
    "$$\n",
    "To find the PCE coefficients $y_k$ for $Y = \\sum_{k=}^n y_k \\phi_k$, we apply Galerkin projection, which leads to\n",
    "$$\n",
    "y_m \\langle \\phi_m, \\phi_m \\rangle = \\sum_{i=1}^k \\sum_{j_1=0}^n \\sum_{j_2=0}^n x_{i,j_1} x_{i,j_2} \\langle \\phi_{j_1} \\phi_{j_2}, \\phi_m \\rangle \\quad \\forall m = 0, \\dots, n.\n",
    "$$\n",
    "Hence, knowing the scalars $\\langle \\phi_m, \\phi_m \\rangle$, and $\\langle \\phi_{j_1} \\phi_{j_2}, \\phi_m \\rangle$, the PCE coefficients $y_k$ can be obtained immediately.\n",
    "From the PCE coefficients we can get the moments and compare them to the closed-form expressions.\n",
    "\n",
    "__Notice:__ A maximum degree of 2 suffices to get the *exact* solution with PCE.\n",
    "In other words, increasing the maximum degree to values greater than 2 introduces nothing but computational overhead (and numerical errors, possibly).\n",
    "\n",
    "\n",
    "## Practice\n",
    "First, we create a orthogonal basis relative to $f_X(x)$ of degree at most $d=2$ (`degree` below).\n",
    "\n",
    "Notice that we consider a total of `Nrec` recursion coefficients, and that we also add a quadrature rule by calling `OrthoPolyQ()`."
   ]
  },
  {
   "cell_type": "code",
   "execution_count": 2,
   "metadata": {},
   "outputs": [
    {
     "data": {
      "text/plain": []
     },
     "execution_count": 2,
     "metadata": {},
     "output_type": "execute_result"
    },
    {
     "name": "stdout",
     "output_type": "stream",
     "text": [
      "\n",
      "\u001b[4mUnivariate orthogonal polynomials\u001b[24m\n",
      "name:\u001b[94m\t\tgaussian\u001b[39m\n",
      "degree:\u001b[0m\t\t2\n",
      "#coeffs:\u001b[0m\t20\n",
      "α =\u001b[0m\t\t[0.0, 0.0, 0.0, 0.0, 0.0, 0.0, 0.0]...\n",
      "β =\u001b[0m\t\t[1.0, 1.0, 2.0, 3.0, 4.0, 5.0, 6.0]...\n",
      "\n",
      "\u001b[4mMeasure dλ(t)=w(t)dt\u001b[24m\n",
      "name:\t\t\u001b[94mgaussian\u001b[39m\n",
      "w(t):\t\tPolyChaos.w_gaussian\n",
      "dom:\t\t(-Inf, Inf)\n",
      "symmetric:\t\u001b[32mtrue\u001b[39m\n",
      "\n",
      "\u001b[4mQuadrature rule\u001b[24m\n",
      "name:\u001b[94m\t\tgolubwelsch\u001b[39m\n",
      "N:\u001b[0m\t\t20\n",
      "nodes\u001b[0m\t\t[-7.61905, -6.51059, -5.57874, -4.73458, -3.94397, -3.18901, -2.45866]...\n",
      "weights\u001b[0m\t\t[1.2578e-13, 2.48206e-10, 6.12749e-8, 4.40212e-6, 0.000128826, 0.0018301, 0.0139978]...\n"
     ]
    }
   ],
   "source": [
    "k = 12\n",
    "using PolyChaos\n",
    "degree, Nrec = 2, 20\n",
    "op = OrthoPoly(\"gaussian\",degree;Nrec=Nrec);\n",
    "opq = OrthoPolyQ(op) #OR: opq = OrthoPolyQ(\"gaussian\",deg;Nrec=Nrec)"
   ]
  },
  {
   "cell_type": "markdown",
   "metadata": {},
   "source": [
    "Now let's define a multivariate basis"
   ]
  },
  {
   "cell_type": "code",
   "execution_count": 3,
   "metadata": {},
   "outputs": [
    {
     "name": "stdout",
     "output_type": "stream",
     "text": [
      "\n",
      "\u001b[4m12-variate orthogonal polynomials\u001b[24m\n",
      "name:\u001b[94m\t\tgaussian\u001b[39m\n",
      "\u001b[94m\t\tgaussian\u001b[39m\n",
      "\u001b[94m\t\tgaussian\u001b[39m\n",
      "\u001b[94m\t\tgaussian\u001b[39m\n",
      "\u001b[94m\t\tgaussian\u001b[39m\n",
      "\u001b[94m\t\tgaussian\u001b[39m\n",
      "\u001b[94m\t\tgaussian\u001b[39m\n",
      "\u001b[94m\t\tgaussian\u001b[39m\n",
      "\u001b[94m\t\tgaussian\u001b[39m\n",
      "\u001b[94m\t\tgaussian\u001b[39m\n",
      "\u001b[94m\t\tgaussian\u001b[39m\n",
      "\u001b[94m\t\tgaussian\u001b[39m\n",
      "deg:\u001b[0m\t\t2\n",
      "dim:\u001b[0m\t\t91\n",
      "ind:\u001b[0m\t\t[0, 0, 0, 0, 0, 0, 0, 0, 0, 0, 0, 0]\n"
     ]
    },
    {
     "data": {
      "text/plain": []
     },
     "execution_count": 3,
     "metadata": {},
     "output_type": "execute_result"
    },
    {
     "name": "stdout",
     "output_type": "stream",
     "text": [
      "\u001b[0m\t\t[1, 0, 0, 0, 0, 0, 0, 0, 0, 0, 0, 0]\n",
      "\u001b[0m\t\t[0, 1, 0, 0, 0, 0, 0, 0, 0, 0, 0, 0]\n",
      "\u001b[0m\t\t[0, 0, 1, 0, 0, 0, 0, 0, 0, 0, 0, 0]\n",
      "\u001b[0m\t\t[0, 0, 0, 1, 0, 0, 0, 0, 0, 0, 0, 0]\n",
      "\u001b[0m\t\t[0, 0, 0, 0, 1, 0, 0, 0, 0, 0, 0, 0]\n",
      "\u001b[0m\t\t[0, 0, 0, 0, 0, 1, 0, 0, 0, 0, 0, 0]\n",
      "\t\t...\n",
      "\n"
     ]
    }
   ],
   "source": [
    "mop = MultiOrthoPoly([opq for i=1:k],degree)"
   ]
  },
  {
   "cell_type": "markdown",
   "metadata": {},
   "source": [
    "Next, we define the PCE for all $X_i$ with $i = 1, \\dots, k$."
   ]
  },
  {
   "cell_type": "code",
   "execution_count": 4,
   "metadata": {},
   "outputs": [
    {
     "data": {
      "text/plain": [
       "12-element Array{SparseArrays.SparseVector{Float64,Int64},1}:\n",
       "   [2 ]  =  1.0\n",
       "   [3 ]  =  1.0\n",
       "   [4 ]  =  1.0\n",
       "   [5 ]  =  1.0\n",
       "   [6 ]  =  1.0\n",
       "   [7 ]  =  1.0\n",
       "   [8 ]  =  1.0\n",
       "   [9 ]  =  1.0\n",
       "   [10]  =  1.0\n",
       "   [11]  =  1.0\n",
       "   [12]  =  1.0\n",
       "   [13]  =  1.0"
      ]
     },
     "execution_count": 4,
     "metadata": {},
     "output_type": "execute_result"
    }
   ],
   "source": [
    "L = dim(mop)\n",
    "mu, sig = 0., 1.\n",
    "x = [ assign2multi(convert2affinePCE(\"gaussian\",mu,sig),i,mop.ind) for i=1:k ]"
   ]
  },
  {
   "cell_type": "markdown",
   "metadata": {},
   "source": [
    "With the orthogonal basis and the quadrature at hand, we can compute the tensors `t2` and `t3` that store the entries $\\langle \\phi_m, \\phi_m \\rangle$, and $\\langle \\phi_{j_1} \\phi_{j_2}, \\phi_m \\rangle$, respectively."
   ]
  },
  {
   "cell_type": "code",
   "execution_count": 5,
   "metadata": {
    "scrolled": true
   },
   "outputs": [
    {
     "data": {
      "text/plain": []
     },
     "execution_count": 5,
     "metadata": {},
     "output_type": "execute_result"
    },
    {
     "name": "stdout",
     "output_type": "stream",
     "text": [
      "\n",
      "\u001b[4m3-dimensional tensor\u001b[24m\n",
      "dim:\u001b[0m\t\t3\n",
      "nonzeros:\u001b[0m\t533\n",
      "\n",
      "\u001b[4m12-variate orthogonal polynomials\u001b[24m\n",
      "name:\u001b[94m\t\tgaussian\u001b[39m\n",
      "\u001b[94m\t\tgaussian\u001b[39m\n",
      "\u001b[94m\t\tgaussian\u001b[39m\n",
      "\u001b[94m\t\tgaussian\u001b[39m\n",
      "\u001b[94m\t\tgaussian\u001b[39m\n",
      "\u001b[94m\t\tgaussian\u001b[39m\n",
      "\u001b[94m\t\tgaussian\u001b[39m\n",
      "\u001b[94m\t\tgaussian\u001b[39m\n",
      "\u001b[94m\t\tgaussian\u001b[39m\n",
      "\u001b[94m\t\tgaussian\u001b[39m\n",
      "\u001b[94m\t\tgaussian\u001b[39m\n",
      "\u001b[94m\t\tgaussian\u001b[39m\n",
      "deg:\u001b[0m\t\t2\n",
      "dim:\u001b[0m\t\t91\n",
      "ind:\u001b[0m\t\t[0, 0, 0, 0, 0, 0, 0, 0, 0, 0, 0, 0]\n",
      "\u001b[0m\t\t[1, 0, 0, 0, 0, 0, 0, 0, 0, 0, 0, 0]\n",
      "\u001b[0m\t\t[0, 1, 0, 0, 0, 0, 0, 0, 0, 0, 0, 0]\n",
      "\u001b[0m\t\t[0, 0, 1, 0, 0, 0, 0, 0, 0, 0, 0, 0]\n",
      "\u001b[0m\t\t[0, 0, 0, 1, 0, 0, 0, 0, 0, 0, 0, 0]\n",
      "\u001b[0m\t\t[0, 0, 0, 0, 1, 0, 0, 0, 0, 0, 0, 0]\n",
      "\u001b[0m\t\t[0, 0, 0, 0, 0, 1, 0, 0, 0, 0, 0, 0]\n",
      "\t\t...\n",
      "\n"
     ]
    }
   ],
   "source": [
    "t2 = Tensor(2,mop)\n",
    "t3 = Tensor(3,mop)"
   ]
  },
  {
   "cell_type": "markdown",
   "metadata": {},
   "source": [
    "With the tensors at hand, we can compute the Galerkin projection.\n",
    "\n",
    "Notice: there are more efficient ways to do this, but let's keep it simple."
   ]
  },
  {
   "cell_type": "code",
   "execution_count": 6,
   "metadata": {},
   "outputs": [
    {
     "data": {
      "text/plain": [
       "91-element Array{Float64,1}:\n",
       " 12.0               \n",
       "  0.0               \n",
       "  0.0               \n",
       "  0.0               \n",
       "  0.0               \n",
       "  0.0               \n",
       "  0.0               \n",
       "  0.0               \n",
       "  0.0               \n",
       "  0.0               \n",
       "  0.0               \n",
       "  0.0               \n",
       "  0.0               \n",
       "  ⋮                 \n",
       "  0.0               \n",
       "  0.0               \n",
       "  1.0000000000000029\n",
       "  0.0               \n",
       "  0.0               \n",
       "  0.0               \n",
       "  1.0000000000000029\n",
       "  0.0               \n",
       "  0.0               \n",
       "  1.0000000000000029\n",
       "  0.0               \n",
       "  1.0000000000000029"
      ]
     },
     "execution_count": 6,
     "metadata": {},
     "output_type": "execute_result"
    }
   ],
   "source": [
    "y = [ sum( x[i][j1]*x[i][j2]*t3.get([j1-1,j2-1,m-1])/t2.get([m-1,m-1])  for i=1:k, j1=1:L, j2=1:L ) for m=1:L ]"
   ]
  },
  {
   "cell_type": "markdown",
   "metadata": {},
   "source": [
    "Let's compare the moments via PCE to the closed-form expressions."
   ]
  },
  {
   "cell_type": "code",
   "execution_count": 7,
   "metadata": {},
   "outputs": [
    {
     "name": "stdout",
     "output_type": "stream",
     "text": [
      "Expected value:\t\t12.0 = 12.0\n",
      "\t\t\terror = 0.0\n",
      "Standard deviation:\t4.898979485566356 = 4.89897948556637\n",
      "\t\t\terror = -1.4210854715202004e-14\n",
      "Skewness:\t\t0.816496580927726 = 0.8164965809277036\n",
      "\t\t\terror = 2.2426505097428162e-14\n"
     ]
    }
   ],
   "source": [
    "moms_analytic(k) = [k, sqrt(2k), sqrt(8/k)]\n",
    "function myskew(y)\n",
    "   e3 = sum( y[i]*y[j]*y[k]*t3.get([i-1,j-1,k-1]) for i=1:L,j=1:L,k=1:L )\n",
    "   μ = y[1]\n",
    "   σ = std(y,mop)\n",
    "   (e3-3*μ*σ^2-μ^3)/(σ^3)\n",
    "end\n",
    "\n",
    "print(\"Expected value:\\t\\t$(moms_analytic(k)[1]) = $(mean(y,mop))\\n\")\n",
    "print(\"\\t\\t\\terror = $(abs(mean(y,mop)-moms_analytic(k)[1]))\\n\")\n",
    "print(\"Standard deviation:\\t$(moms_analytic(k)[2]) = $(std(y,mop))\\n\")\n",
    "print(\"\\t\\t\\terror = $(moms_analytic(k)[2]-std(y,mop))\\n\")\n",
    "print(\"Skewness:\\t\\t$(moms_analytic(k)[3]) = $(myskew(y))\\n\")\n",
    "print(\"\\t\\t\\terror = $(moms_analytic(k)[3]-myskew(y))\\n\")\n"
   ]
  },
  {
   "cell_type": "markdown",
   "metadata": {},
   "source": [
    "Let's plot the probability density function to compare results.\n",
    "We first draw samples from the measure with the help of `sampleMeasure()`, and then evaluate the basis at these samples and multiply times the PCE coefficients.\n",
    "The latter stop is done using `evaluatePCE()`.\n",
    "Both steps are combined in the function `samplePCE()`.\n",
    "Finally, we compare the result agains the analytical PDF $\\rho(t) = \\frac{t^{t/2-1}\\mathrm{e}^{-t/2}}{2^{k/2} \\, \\Gamma(k/2)}$ of the chi-squared distribution with one degree of freedom."
   ]
  },
  {
   "cell_type": "code",
   "execution_count": 8,
   "metadata": {},
   "outputs": [
    {
     "data": {
      "image/png": "[encoded data removed]",
      "text/plain": [
       "Figure(PyObject <Figure size 640x480 with 1 Axes>)"
      ]
     },
     "metadata": {},
     "output_type": "display_data"
    },
    {
     "name": "stderr",
     "output_type": "stream",
     "text": [
      "┌ Info: Precompiling PyPlot [d330b81b-6aea-500a-939a-2ce795aea3ee]\n",
      "└ @ Base loading.jl:1186\n",
      "WARNING: eval into closed module Base:\n",
      "Expr(:block, #= Symbol(\"/Users/till/.julia/packages/Compat/hsya0/src/Compat.jl\"):1891 =#, Expr(:call, :range, Expr(:parameters, Expr(:..., :kwargs)), :start, :stop) = Expr(:block, #= Symbol(\"/Users/till/.julia/packages/Compat/hsya0/src/Compat.jl\"):1891 =#, Expr(:call, :range, Expr(:parameters, Expr(:kw, :stop, :stop), Expr(:..., :kwargs)), :start)))\n",
      "  ** incremental compilation may be broken for this module **\n",
      "\n",
      "WARNING: Method definition range(Any, Any) in module Base at range.jl:90 overwritten at /Users/till/.julia/packages/Compat/hsya0/src/Compat.jl:1891.\n",
      "WARNING: Method definition #range(Any, typeof(Base.range), Any, Any) in module Base overwritten.\n",
      "WARNING: eval into closed module Base:\n",
      "Expr(:block, #= Symbol(\"/Users/till/.julia/packages/Compat/hsya0/src/Compat.jl\"):1891 =#, Expr(:call, :range, Expr(:parameters, Expr(:..., :kwargs)), :start, :stop) = Expr(:block, #= Symbol(\"/Users/till/.julia/packages/Compat/hsya0/src/Compat.jl\"):1891 =#, Expr(:call, :range, Expr(:parameters, Expr(:kw, :stop, :stop), Expr(:..., :kwargs)), :start)))\n",
      "  ** incremental compilation may be broken for this module **\n",
      "\n",
      "WARNING: Method definition range(Any, Any) in module Base at range.jl:90 overwritten at /Users/till/.julia/packages/Compat/hsya0/src/Compat.jl:1891.\n",
      "WARNING: Method definition #range(Any, typeof(Base.range), Any, Any) in module Base overwritten.\n",
      "WARNING: eval into closed module Base:\n",
      "Expr(:block, #= Symbol(\"/Users/till/.julia/packages/Compat/hsya0/src/Compat.jl\"):1891 =#, Expr(:call, :range, Expr(:parameters, Expr(:..., :kwargs)), :start, :stop) = Expr(:block, #= Symbol(\"/Users/till/.julia/packages/Compat/hsya0/src/Compat.jl\"):1891 =#, Expr(:call, :range, Expr(:parameters, Expr(:kw, :stop, :stop), Expr(:..., :kwargs)), :start)))\n",
      "  ** incremental compilation may be broken for this module **\n",
      "\n",
      "WARNING: Method definition range(Any, Any) in module Base at range.jl:90 overwritten at /Users/till/.julia/packages/Compat/hsya0/src/Compat.jl:1891.\n",
      "WARNING: Method definition #range(Any, typeof(Base.range), Any, Any) in module Base overwritten.\n",
      "WARNING: eval into closed module Base:\n",
      "Expr(:block, #= Symbol(\"/Users/till/.julia/packages/Compat/hsya0/src/Compat.jl\"):1891 =#, Expr(:call, :range, Expr(:parameters, Expr(:..., :kwargs)), :start, :stop) = Expr(:block, #= Symbol(\"/Users/till/.julia/packages/Compat/hsya0/src/Compat.jl\"):1891 =#, Expr(:call, :range, Expr(:parameters, Expr(:kw, :stop, :stop), Expr(:..., :kwargs)), :start)))\n",
      "  ** incremental compilation may be broken for this module **\n",
      "\n",
      "WARNING: Method definition range(Any, Any) in module Base at range.jl:90 overwritten at /Users/till/.julia/packages/Compat/hsya0/src/Compat.jl:1891.\n",
      "WARNING: Method definition #range(Any, typeof(Base.range), Any, Any) in module Base overwritten.\n"
     ]
    },
    {
     "data": {
      "text/plain": [
       "1-element Array{PyCall.PyObject,1}:\n",
       " PyObject <matplotlib.lines.Line2D object at 0x122a4d860>"
      ]
     },
     "execution_count": 8,
     "metadata": {},
     "output_type": "execute_result"
    }
   ],
   "source": [
    "using PyPlot\n",
    "Nsmpl = 10000\n",
    "# ξ = sampleMeasure(Nsmpl,mop)\n",
    "# ysmpl = evaluatePCE(y,ξ,mop)\n",
    "ysmpl = samplePCE(Nsmpl,y,mop)\n",
    "figure(1)\n",
    "plt[:hist](ysmpl; density=true,bins=70)\n",
    "grid(true); xlabel(L\"$t$\"); ylabel(L\"$\\rho(t)$\");\n",
    "\n",
    "import SpecialFunctions: gamma\n",
    "ρ(t) = 1/(2^(0.5*k)*gamma(0.5*k))*t^(0.5*k-1)*exp(-0.5*t)\n",
    "t = range(0.1; stop=maximum(ysmpl), length=100)\n",
    "plot(t,ρ.(t))"
   ]
  }
 ],
 "metadata": {
  "kernelspec": {
   "display_name": "Julia 1.1.0",
   "language": "julia",
   "name": "julia-1.1"
  },
  "language_info": {
   "file_extension": ".jl",
   "mimetype": "application/julia",
   "name": "julia",
   "version": "1.1.0"
  }
 },
 "nbformat": 4,
 "nbformat_minor": 2
}
