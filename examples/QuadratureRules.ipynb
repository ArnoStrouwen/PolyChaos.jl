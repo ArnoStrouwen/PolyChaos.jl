{
 "cells": [
  {
   "cell_type": "markdown",
   "metadata": {},
   "source": [
    "# Univariate Quadrature Rules\n",
    "\n",
    "An $n$-point quadrature rule $\\{w_k, t_k \\}_{k=1}^n$ composed of weights $w_k$ and nodes $t_k$ satisfies\n",
    "$$\n",
    "\\int f(t) w(t) \\mathrm{d}t \\approx \\sum_{k=1}^{n} w_k f(t_k).\n",
    "$$\n",
    "The integration interval can be finite, infinite or half-finite.\n",
    "Gauss-quadrature rules are specific quadrature rules that satisfy\n",
    "$$\n",
    "\\int p(t) w(t) \\mathrm{d}t = \\sum_{k=1}^{n} w_k p(t_k),\n",
    "$$\n",
    "where $p$ is a polynomial of degree at most $2n-1$.\n",
    "In other words, with a 3-point Gauss quadrature rule, polynomials of degree at most 5 can be integrated *exactly* simply by evaluating the polynomial at three points, and weigthing them appropriately.\n",
    "Gauss quadrature rules are intricately related to orthogonal polynomials (relative to the weight function $w(t)$).\n",
    "\n",
    "## Classical Orthogonal Polynomials\n",
    "The Gauss quadrature rules for classical orthogonal polynomials have been studied (and implemented) extensively.\n",
    "Our package relies on [FastGaussQuadrature.jl](https://github.com/ajt60gaibb/FastGaussQuadrature.jl) to compute them.\n",
    "For example, the $n$-point quadrature rule for a Gaussian measure is obtained via"
   ]
  },
  {
   "cell_type": "code",
   "execution_count": 4,
   "metadata": {},
   "outputs": [
    {
     "data": {
      "text/plain": []
     },
     "execution_count": 4,
     "metadata": {},
     "output_type": "execute_result"
    },
    {
     "name": "stdout",
     "output_type": "stream",
     "text": [
      "\n",
      "\u001b[4mQuadrature rule\u001b[24m\n",
      "name:\u001b[94m\t\tgaussian\u001b[39m\n",
      "N:\u001b[0m\t\t10\n",
      "nodes\u001b[0m\t\t[-4.85946, -3.58182, -2.48433, -1.46599, -0.484936, 0.484936, 1.46599]...\n",
      "weights\u001b[0m\t\t[4.31065e-6, 0.000758071, 0.0191116, 0.135484, 0.344642, 0.344642, 0.135484]...\n",
      "\n",
      "\u001b[4mMeasure dλ(t)=w(t)dt\u001b[24m\n",
      "name:\t\t\u001b[94mgaussian\u001b[39m\n",
      "w(t):\t\tPolyChaos.w_gaussian\n",
      "dom:\t\t(-Inf, Inf)\n",
      "symmetric:\t\u001b[32mtrue\u001b[39m\n"
     ]
    }
   ],
   "source": [
    "using Revise, PolyChaos\n",
    "n = 10\n",
    "q_gauss = Quad(\"gaussian\",n)"
   ]
  },
  {
   "cell_type": "markdown",
   "metadata": {},
   "source": [
    "As for `OrthoPoly`, also `Quad` has a field `meas`, which specifies the underlying measure.\n",
    "The quadrature rule is obtained by calling `nw()`"
   ]
  },
  {
   "cell_type": "code",
   "execution_count": 5,
   "metadata": {},
   "outputs": [
    {
     "data": {
      "text/plain": [
       "10×2 Array{Float64,2}:\n",
       " -4.85946   4.31065e-6 \n",
       " -3.58182   0.000758071\n",
       " -2.48433   0.0191116  \n",
       " -1.46599   0.135484   \n",
       " -0.484936  0.344642   \n",
       "  0.484936  0.344642   \n",
       "  1.46599   0.135484   \n",
       "  2.48433   0.0191116  \n",
       "  3.58182   0.000758071\n",
       "  4.85946   4.31065e-6 "
      ]
     },
     "execution_count": 5,
     "metadata": {},
     "output_type": "execute_result"
    }
   ],
   "source": [
    "nw(q_gauss) # equivalently call q_gauss.nodes, q_gauss.weights"
   ]
  },
  {
   "cell_type": "markdown",
   "metadata": {},
   "source": [
    "Let's now solve the following integral\n",
    "$$\n",
    "\\int_{\\mathbb{R}} (0.2 t^8 + 0.1 t^7 + 0.34 t^3 + 2 t^2) \\, \\frac{1}{\\sqrt{2 \\pi}} \\, \\exp \\left( - \\frac{t^2}{2} \\right) \\mathrm{d} t\n",
    "$$"
   ]
  },
  {
   "cell_type": "code",
   "execution_count": 6,
   "metadata": {},
   "outputs": [
    {
     "data": {
      "text/plain": [
       "22.999999999999808"
      ]
     },
     "execution_count": 6,
     "metadata": {},
     "output_type": "execute_result"
    }
   ],
   "source": [
    "f(t) = 0.2*t^8+0.1t^7 + 0.34*t^3 + 2t^2\n",
    "I1 = integrate(f,q_gauss) # equivalent to dot(weights,f.(weights))\n",
    "\n",
    "# using QuadGK\n",
    "# g(t) = f(t)*1/sqrt(2*pi)*exp(-0.5*t^2)\n",
    "# I2 = quadgk(g,-Inf,Inf)[1]"
   ]
  },
  {
   "cell_type": "markdown",
   "metadata": {},
   "source": [
    "If necessary, additional parameters of the underlying measure are passed in a dictionary.\n",
    "This is the case, for example, for the beta distribution."
   ]
  },
  {
   "cell_type": "code",
   "execution_count": 7,
   "metadata": {},
   "outputs": [
    {
     "data": {
      "text/plain": [
       "10×2 Array{Float64,2}:\n",
       " 0.0297857  0.00818123\n",
       " 0.090266   0.0493143 \n",
       " 0.177721   0.126308  \n",
       " 0.28643    0.202984  \n",
       " 0.409284   0.231663  \n",
       " 0.538247   0.195276  \n",
       " 0.664887   0.120539  \n",
       " 0.780926   0.0514044 \n",
       " 0.878792   0.0130437 \n",
       " 0.95217    0.00128664"
      ]
     },
     "execution_count": 7,
     "metadata": {},
     "output_type": "execute_result"
    }
   ],
   "source": [
    "q_beta = Quad(\"beta01\",n,Dict(:shape_a=>2.3,:shape_b=>3.2))\n",
    "nw(q_beta)"
   ]
  },
  {
   "cell_type": "markdown",
   "metadata": {},
   "source": [
    "## Arbitrary Weights\n",
    "For arbitrary weights $w(t)$ the quadrature rule can be computed numerically from the recursion coefficients of the underlying orthogonal polynomials.\n",
    "Let's first define the measure (here the uniform measure on $(0,1)$), and compute the respective orthogonal polynomials."
   ]
  },
  {
   "cell_type": "code",
   "execution_count": null,
   "metadata": {},
   "outputs": [],
   "source": [
    "supp = (0,1)\n",
    "function w(t)\n",
    "    supp[1]<=t<=supp[2] ? (1.) : error(\"$t not in support\")\n",
    "end\n",
    "my_meas = Measure(\"my_meas\",w,supp,false,Dict())\n",
    "my_op = OrthoPoly(\"my_op\",n-1,my_meas;Nquad=200)"
   ]
  },
  {
   "cell_type": "markdown",
   "metadata": {},
   "source": [
    "Using the Golub-Welsch algorithm by default, the quadrature rule is computed as follows"
   ]
  },
  {
   "cell_type": "code",
   "execution_count": null,
   "metadata": {},
   "outputs": [],
   "source": [
    "my_q = Quad(n,my_op)"
   ]
  },
  {
   "cell_type": "markdown",
   "metadata": {},
   "source": [
    "Let's compare the accuracy of the numerically computed quadrature rule to its well-studied Gauss-Legendre counterpart:"
   ]
  },
  {
   "cell_type": "code",
   "execution_count": null,
   "metadata": {},
   "outputs": [],
   "source": [
    "q_uniform01 = Quad(\"uniform01\",n)\n",
    "nw(q_uniform01) - nw(my_q)"
   ]
  },
  {
   "cell_type": "markdown",
   "metadata": {},
   "source": [
    "__The possibility to create quadrature rules for arbitrary weights should be reserved to cases different from *classical* ones.__"
   ]
  },
  {
   "cell_type": "markdown",
   "metadata": {},
   "source": [
    "## Multivariate Quadrature Rules\n",
    "No stand-alone implementation currently, the reason being that the standard use case of the package is to use orthogonal polynomials in conjunction with quadrature rules, see __here__."
   ]
  }
 ],
 "metadata": {
  "kernelspec": {
   "display_name": "Julia 0.7.0",
   "language": "julia",
   "name": "julia-0.7"
  },
  "language_info": {
   "file_extension": ".jl",
   "mimetype": "application/julia",
   "name": "julia",
   "version": "0.7.0"
  }
 },
 "nbformat": 4,
 "nbformat_minor": 2
}
