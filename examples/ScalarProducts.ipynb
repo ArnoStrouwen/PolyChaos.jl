{
 "cells": [
  {
   "cell_type": "markdown",
   "metadata": {},
   "source": [
    "# Computation of Scalar Products\n",
    "\n",
    "By now, we are able to construct orthogonal polynomials, and to construct quadrature rules for a given nonnegative weight function, respectively.\n",
    "Now we combine both ideas to solve integrals involving the orthogonal polynomials\n",
    "$$\n",
    "\\langle \\phi_{i_1} \\phi_{i_2} \\cdots \\phi_{i_{m-1}}, \\phi_{i_m} \\rangle\n",
    "= \\int \\phi_{i_1}(t) \\phi_{i_2}(t) \\cdots \\phi_{i_{m-1}}(t) \\phi_{i_m}(t) w(t) \\mathrm{d} t,\n",
    "$$\n",
    "both for the univariate and multivariate case.\n",
    "The integrand is a polynomial (possibly multivariate) that can be solved exactly with the appropriate Gauss quadrature rules.\n",
    "\n",
    "Notice: To simplify notation we drop the integration interval.\n",
    "It is clear from the context.\n",
    "\n",
    "\n",
    "## Univariate Polynomials\n",
    "### Classical Polynomials\n",
    "Let's begin with a univariate basis for some *classical* orthogonal polynomial"
   ]
  },
  {
   "cell_type": "code",
   "execution_count": null,
   "metadata": {},
   "outputs": [],
   "source": [
    "using PolyChaos\n",
    "deg, n = 4, 20\n",
    "s_α, s_β = 2.1, 3.2\n",
    "op = OrthoPoly(\"beta01\",deg,Dict(:shape_a=>s_α,:shape_b=>s_β);Nrec=n)"
   ]
  },
  {
   "cell_type": "markdown",
   "metadata": {},
   "source": [
    "To add the corresponding quadrature rule there is the composite struct `OrthoPolyQ` whose simplest constructor reads"
   ]
  },
  {
   "cell_type": "code",
   "execution_count": null,
   "metadata": {},
   "outputs": [],
   "source": [
    "opq = OrthoPolyQ(op,n)"
   ]
  },
  {
   "cell_type": "markdown",
   "metadata": {},
   "source": [
    "By default, an $n$-point Gauss quadrature rule is create relative to the underlying measure `op.meas`, where $n$ is the number of recurrence coefficients stored in `op.α` and `op.β`.\n",
    "The type `OrthoPolyQ` has just two fields: an `OrthoPoly`, and a `Quad`.\n",
    "\n",
    "To compute the squared norms\n",
    "$$\n",
    "\\| \\phi_k \\|^2 = \\langle \\phi_k, \\phi_k  \\rangle\n",
    "= \\int \\phi_k(t) \\phi_k(t) w(t) \\mathrm{d} t\n",
    "$$\n",
    "\n",
    "of the basis we call `computeSP2()`"
   ]
  },
  {
   "cell_type": "code",
   "execution_count": null,
   "metadata": {},
   "outputs": [],
   "source": [
    "normsq = computeSP2(opq)"
   ]
  },
  {
   "cell_type": "markdown",
   "metadata": {},
   "source": [
    "For the general case\n",
    "$$\n",
    "\\langle \\phi_{i_1} \\phi_{i_2} \\cdots \\phi_{i_{m-1}}, \\phi_{i_m} \\rangle\n",
    "= \\int \\phi_{i_1}(t) \\phi_{i_2}(t) \\cdots \\phi_{i_{m-1}}(t) \\phi_{i_m}(t) w(t) \\mathrm{d} t,\n",
    "$$\n",
    "there exists a type `Tensor` that requires only two arguments: the *dimension* $m \\geq 1$, and an `OrthoPolyQ`"
   ]
  },
  {
   "cell_type": "code",
   "execution_count": null,
   "metadata": {},
   "outputs": [],
   "source": [
    "m = 3\n",
    "t = Tensor(3,opq)"
   ]
  },
  {
   "cell_type": "markdown",
   "metadata": {},
   "source": [
    "To get the desired entries, `Tensor`comes with a `get()` function that is called for some index $a \\in \\mathbb{N}_0^m$ that has the entries $a = [i_1, i_2, \\dots, i_m]$.\n",
    "For example\n"
   ]
  },
  {
   "cell_type": "code",
   "execution_count": null,
   "metadata": {},
   "outputs": [],
   "source": [
    "t.get([1,2,3])"
   ]
  },
  {
   "cell_type": "markdown",
   "metadata": {},
   "source": [
    "Or using comprehension"
   ]
  },
  {
   "cell_type": "code",
   "execution_count": null,
   "metadata": {},
   "outputs": [],
   "source": [
    "T = [ t.get([i1,i2,i3]) for i1=0:dim(opq)-1,i2=0:dim(opq)-1,i3=0:dim(opq)-1]"
   ]
  },
  {
   "cell_type": "markdown",
   "metadata": {},
   "source": [
    "Notice that we can cross-check the results."
   ]
  },
  {
   "cell_type": "code",
   "execution_count": null,
   "metadata": {},
   "outputs": [],
   "source": [
    "using LinearAlgebra\n",
    "@show normsq == LinearAlgebra.diag(T[:,:,1])\n",
    "@show normsq == LinearAlgebra.diag(T[:,1,:])\n",
    "@show normsq == LinearAlgebra.diag(T[1,:,:])"
   ]
  },
  {
   "cell_type": "markdown",
   "metadata": {},
   "source": [
    "Also, `normsq` can be computed analogously in `Tensor` format"
   ]
  },
  {
   "cell_type": "code",
   "execution_count": null,
   "metadata": {},
   "outputs": [],
   "source": [
    "t2 = Tensor(2,opq)\n",
    "@show normsq == [ t2.get([i,i]) for i=0:dim(opq)-1]"
   ]
  },
  {
   "cell_type": "markdown",
   "metadata": {},
   "source": [
    "### Arbitrary Weights\n",
    "Of course, the type `OrthoPolyQ` can be constructed for arbitrary weights $w(t)$.\n",
    "In this case we have to compute the orthogonal basis and the respective quadrature rule.\n",
    "Let's re-work the above example by hand."
   ]
  },
  {
   "cell_type": "code",
   "execution_count": null,
   "metadata": {},
   "outputs": [],
   "source": [
    "using SpecialFunctions\n",
    "supp = (0,1)\n",
    "function w(t)\n",
    "    supp[1]<=t<=supp[2] ? (t^(s_α-1)*(1-t)^(s_β-1)/SpecialFunctions.beta(s_α,s_β)) : error(\"$t not in support\")\n",
    "end\n",
    "my_meas = Measure(\"my_meas\",w,supp,false,Dict())\n",
    "my_op = OrthoPoly(\"my_op\",deg,my_meas;Nrec=n)\n",
    "my_quad = Quad(n,my_op)\n",
    "my_opq = OrthoPolyQ(my_op,my_quad)"
   ]
  },
  {
   "cell_type": "markdown",
   "metadata": {},
   "source": [
    "Now we can compute the squared norms $\\| \\phi_k \\|^2$"
   ]
  },
  {
   "cell_type": "code",
   "execution_count": null,
   "metadata": {},
   "outputs": [],
   "source": [
    "my_normsq = computeSP2(my_opq)"
   ]
  },
  {
   "cell_type": "markdown",
   "metadata": {},
   "source": [
    "And the tensor"
   ]
  },
  {
   "cell_type": "code",
   "execution_count": null,
   "metadata": {},
   "outputs": [],
   "source": [
    "my_t = Tensor(m,my_opq)\n",
    "my_T = [ my_t.get([i1,i2,i3]) for i1=0:dim(opq)-1,i2=0:dim(opq)-1,i3=0:dim(opq)-1]"
   ]
  },
  {
   "cell_type": "markdown",
   "metadata": {},
   "source": [
    "Let's compare the results:"
   ]
  },
  {
   "cell_type": "code",
   "execution_count": null,
   "metadata": {},
   "outputs": [],
   "source": [
    "@show abs.(normsq-my_normsq)\n",
    "@show norm(T-my_T)"
   ]
  },
  {
   "cell_type": "markdown",
   "metadata": {},
   "source": [
    "Notice: __The possibility to create quadrature rules for arbitrary weights should be reserved to cases different from *classical* ones.__"
   ]
  },
  {
   "cell_type": "markdown",
   "metadata": {},
   "source": [
    "### Multivariate Polynomials\n",
    "For multivariate polynomials the syntax for `Tensor` is very much alike, except that we are dealing with the type `MultiOrthoPoly` now."
   ]
  },
  {
   "cell_type": "code",
   "execution_count": null,
   "metadata": {},
   "outputs": [],
   "source": [
    "mop = MultiOrthoPoly([opq,my_opq],deg)"
   ]
  },
  {
   "cell_type": "code",
   "execution_count": null,
   "metadata": {},
   "outputs": [],
   "source": [
    "mt2 = Tensor(2,mop)\n",
    "mt3 = Tensor(3,mop)\n",
    "mT2 = [ mt2.get([i,i]) for i=0:dim(mop)-1 ]"
   ]
  },
  {
   "cell_type": "markdown",
   "metadata": {},
   "source": [
    "Notice that `mT2` carries the elements of the 2-dimensional tensors for the univariate bases `opq` and `my_opq`.\n",
    "The encoding is given by the multi-index `mop.ind`"
   ]
  },
  {
   "cell_type": "code",
   "execution_count": null,
   "metadata": {},
   "outputs": [],
   "source": [
    "mop.ind"
   ]
  },
  {
   "cell_type": "markdown",
   "metadata": {},
   "source": [
    "To cross-check the results we can distribute the multi-index back to its univariate indices with the help of `findUnivariateIndices`."
   ]
  },
  {
   "cell_type": "code",
   "execution_count": null,
   "metadata": {},
   "outputs": [],
   "source": [
    "ind_opq = findUnivariateIndices(1,mop.ind)\n",
    "ind_my_opq = findUnivariateIndices(2,mop.ind)"
   ]
  },
  {
   "cell_type": "code",
   "execution_count": null,
   "metadata": {},
   "outputs": [],
   "source": [
    "@show mT2[ind_opq] - normsq\n",
    "@show mT2[ind_my_opq] - my_normsq;"
   ]
  }
 ],
 "metadata": {
  "kernelspec": {
   "display_name": "Julia 0.7.0",
   "language": "julia",
   "name": "julia-0.7"
  },
  "language_info": {
   "file_extension": ".jl",
   "mimetype": "application/julia",
   "name": "julia",
   "version": "0.7.0"
  }
 },
 "nbformat": 4,
 "nbformat_minor": 2
}
