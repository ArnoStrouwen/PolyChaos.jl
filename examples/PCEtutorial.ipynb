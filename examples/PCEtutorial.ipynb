{
 "cells": [
  {
   "cell_type": "markdown",
   "metadata": {},
   "source": [
    "# Common Random Variables\n",
    "Polynomial chaos expansion (PCE) is a Hilbert space technique for random variables with finite variance.\n",
    "Mathematically equivalent to Fourier series expansions for periodic signals, PCE allows to characterize a random variable in terms of its PCE coefficients (aka Fourier coefficients).\n",
    "That is, the PCE of a random variable $\\mathsf{x}$ is given by\n",
    "$$\n",
    "\\mathsf{x} = \\sum_{i=0}^L x_i \\phi_i,\n",
    "$$\n",
    "where $x_i$ are the so-called PCE coefficients, and $\\phi_i$ are the orthogonal polynomials that are orthogonal relative to the probability density function of $\\mathsf{x}$.\n",
    "\n",
    "This tutorial walks you through the PCE of common random variables, namely Gaussian (`gaussian`), Beta (`beta01`), Uniform(`uniform01`), Logistic (`logistic`), and shows how they are implemented in `PolyChaos`.\n",
    "\n",
    "## Construction of Basis\n",
    "\n",
    "We begin by specifying the names and, if any, parameters for the uncertainties."
   ]
  },
  {
   "cell_type": "code",
   "execution_count": null,
   "metadata": {},
   "outputs": [],
   "source": [
    "using Revise\n",
    "using PolyChaos\n",
    "α, β = 1.3, 2.2\n",
    "polynames = [\"gaussian\", \"beta01\", \"uniform01\", \"logistic\"]\n",
    "pars = [Dict(), Dict(:shape_a=>α,:shape_b=>β), Dict(), Dict()]"
   ]
  },
  {
   "cell_type": "markdown",
   "metadata": {},
   "source": [
    "The orthogonal polynomials are constructed using `OrthoPoly` (here of degree at most `d`, and stored in the dictionary `myops`)."
   ]
  },
  {
   "cell_type": "code",
   "execution_count": null,
   "metadata": {},
   "outputs": [],
   "source": [
    "d = 6\n",
    "myops = Dict()\n",
    "for (i,name) in enumerate(polynames)\n",
    "    myops[name]=OrthoPoly(name,d,pars[i])\n",
    "end"
   ]
  },
  {
   "cell_type": "markdown",
   "metadata": {},
   "source": [
    "For example, let's evaluate the Gaussian basis polynomials at some points"
   ]
  },
  {
   "cell_type": "code",
   "execution_count": null,
   "metadata": {},
   "outputs": [],
   "source": [
    "points, degrees = randn(10), 0:2:d\n",
    "op_gauss=myops[\"gaussian\"]\n",
    "[ evaluate(degree,points,op_gauss) for degree in degrees ]"
   ]
  },
  {
   "cell_type": "markdown",
   "metadata": {},
   "source": [
    "If a quadrature rule is required, this can be added by calling `OrthoPolyQ`"
   ]
  },
  {
   "cell_type": "code",
   "execution_count": null,
   "metadata": {},
   "outputs": [],
   "source": [
    "myopqs = Dict()\n",
    "for (i,name) in enumerate(names)\n",
    "    myopqs[name]=OrthoPolyQ(name,d,pars[i])\n",
    "end"
   ]
  },
  {
   "cell_type": "markdown",
   "metadata": {},
   "source": [
    "## Finding PCE Coefficients\n",
    "Having constructed the orthogonal bases, the question remains how to find the PCE coefficients for the common random variables.\n",
    "Every random variable can be characterized exactly by two PCE coefficients.\n",
    "For a Gaussian random variable, this is familiar: the mean and the variance suffice to describe a Gaussian random variable entirely.\n",
    "The same is true for any random variable of finite variance given the right basis.\n",
    "The function `convert2affinePCE` provides the first two PCE coefficients (hence the name affine) for the common random variables.\n",
    "\n",
    "### Gaussian\n",
    "Given the Gaussian random variable $\\mathsf{x} \\sim \\mathcal{N}(\\mu, \\sigma^2)$ with $\\sigma > 0$, the affine PCE coefficients are"
   ]
  },
  {
   "cell_type": "code",
   "execution_count": null,
   "metadata": {},
   "outputs": [],
   "source": [
    "# Gaussian\n",
    "μ, σ = 2., 0.2\n",
    "pce_gaussian = convert2affinePCE(\"gaussian\",μ,σ)\n",
    "# Uniform"
   ]
  },
  {
   "cell_type": "markdown",
   "metadata": {},
   "source": [
    "### Uniform\n",
    "Given the uniform random variable $\\mathsf{x} \\sim \\mathcal{U}(a, b)$ with finite support $a<b$, the affine PCE coefficients are"
   ]
  },
  {
   "cell_type": "code",
   "execution_count": null,
   "metadata": {},
   "outputs": [],
   "source": [
    "a, b = -0.3, 1.2\n",
    "convert2affinePCE(\"uniform01\",a,b)"
   ]
  },
  {
   "cell_type": "markdown",
   "metadata": {},
   "source": [
    "Instead, if the expected value and standard deviation are known, the affine PCE coefficients of the uniform random variable are"
   ]
  },
  {
   "cell_type": "code",
   "execution_count": null,
   "metadata": {},
   "outputs": [],
   "source": [
    "pce_uniform = convert2affinePCE(\"uniform01\",μ,σ;kind=:μσ)\n",
    "# notice that the zero-order coefficient IS equivalent to the expected value μ"
   ]
  },
  {
   "cell_type": "markdown",
   "metadata": {},
   "source": [
    "### Beta\n",
    "Given the Beta random variable $\\mathsf{x} \\sim \\mathcal{B}(a, b, \\alpha, \\beta)$ with finite support $a<b$ and shape parameters $\\alpha, \\beta > 0$, the affine PCE coefficients are"
   ]
  },
  {
   "cell_type": "code",
   "execution_count": null,
   "metadata": {},
   "outputs": [],
   "source": [
    "convert2affinePCE(\"beta01\",a,b,Dict(:shape_a=>α,:shape_b=>β))"
   ]
  },
  {
   "cell_type": "markdown",
   "metadata": {},
   "source": [
    "Instead, if the expected value and standard deviation are known, the affine PCE coefficients of the uniform random variable are"
   ]
  },
  {
   "cell_type": "code",
   "execution_count": null,
   "metadata": {},
   "outputs": [],
   "source": [
    "pce_beta = convert2affinePCE(\"beta01\",μ,σ,Dict(:shape_a=>α,:shape_b=>β); kind=:μσ)"
   ]
  },
  {
   "cell_type": "markdown",
   "metadata": {},
   "source": [
    "### Logistic"
   ]
  },
  {
   "cell_type": "markdown",
   "metadata": {},
   "source": [
    "Given the logstic random variable $\\mathsf{x} \\sim \\mathcal{L}(a_1,a_2)$ where $a_2>0$ with the probability density function\n",
    "$$\n",
    "\\rho(t) = \\frac{1}{4 a_2} \\, \\operatorname{sech}^2 \\left(\\frac{t-a_1}{2a_2}\\right)\n",
    "$$\n",
    "the affine PCE coefficients of the uniform random variable are"
   ]
  },
  {
   "cell_type": "code",
   "execution_count": null,
   "metadata": {},
   "outputs": [],
   "source": [
    "a1, a2 = μ, sqrt(3)*σ/pi\n",
    "pce_logistic = convert2affinePCE(\"logistic\",a1,a2)"
   ]
  },
  {
   "cell_type": "markdown",
   "metadata": {},
   "source": [
    "## Moments\n",
    "It is a key feature of PCE to compute moments from the PCE coefficients alone; no sampling is required.\n",
    "\n",
    "### Gaussian"
   ]
  },
  {
   "cell_type": "code",
   "execution_count": null,
   "metadata": {},
   "outputs": [],
   "source": [
    "mean(pce_gaussian,myops[\"gaussian\"]), std(pce_gaussian,myops[\"gaussian\"])"
   ]
  },
  {
   "cell_type": "markdown",
   "metadata": {},
   "source": [
    "### Uniform"
   ]
  },
  {
   "cell_type": "code",
   "execution_count": null,
   "metadata": {},
   "outputs": [],
   "source": [
    "mean(pce_uniform,myops[\"uniform01\"]), std(pce_uniform,myops[\"uniform01\"])"
   ]
  },
  {
   "cell_type": "markdown",
   "metadata": {},
   "source": [
    "### Beta"
   ]
  },
  {
   "cell_type": "code",
   "execution_count": null,
   "metadata": {},
   "outputs": [],
   "source": [
    "mean(pce_beta,myops[\"beta01\"]), std(pce_beta,myops[\"beta01\"])"
   ]
  },
  {
   "cell_type": "markdown",
   "metadata": {},
   "source": [
    "### Logistic"
   ]
  },
  {
   "cell_type": "code",
   "execution_count": null,
   "metadata": {},
   "outputs": [],
   "source": [
    "mean(pce_logistic,myops[\"logistic\"]), std(pce_logistic,myops[\"logistic\"])"
   ]
  },
  {
   "cell_type": "markdown",
   "metadata": {},
   "source": [
    "## Sampling\n",
    "Having found the PCE coefficients, it may be useful to sample the random variables.\n",
    "That means, find $N$ realizations of the random variable that obey the random variable's probability density function.\n",
    "This is done in two steps:\n",
    "1. Draw $N$ samples from the measure (`sampleMeasure()`), and then\n",
    "2. Evaluate the basis polynomials and multiply times the PCE coefficients, i.e. $\\sum_{i=0}^L x_i \\phi_i(\\xi_j)$ where $\\xi_j$ is the $j$-th sample from the measure (`evaluatePCE()`).\n",
    "\n",
    "Both steps are combined in the function `samplepCE()`.\n",
    "\n",
    "### Gaussian"
   ]
  },
  {
   "cell_type": "code",
   "execution_count": null,
   "metadata": {},
   "outputs": [],
   "source": [
    "using Statistics\n",
    "N = 1000\n",
    "ξ_gaussian = sampleMeasure(N,myops[\"gaussian\"])\n",
    "samples_gaussian = evaluatePCE(pce_gaussian,ξ_gaussian,myops[\"gaussian\"])\n",
    "# samplePCE(N,pce_gaussian,myops[\"gaussian\"])"
   ]
  },
  {
   "cell_type": "markdown",
   "metadata": {},
   "source": [
    "### Uniform"
   ]
  },
  {
   "cell_type": "code",
   "execution_count": null,
   "metadata": {},
   "outputs": [],
   "source": [
    "ξ_uniform = sampleMeasure(N,myops[\"uniform01\"])\n",
    "samples_uniform = evaluatePCE(pce_uniform,ξ_uniform,myops[\"uniform01\"])\n",
    "# samples_uniform = samplePCE(N,pce_uniform,myops[\"uniform01\"])"
   ]
  },
  {
   "cell_type": "markdown",
   "metadata": {},
   "source": [
    "### Beta"
   ]
  },
  {
   "cell_type": "code",
   "execution_count": null,
   "metadata": {},
   "outputs": [],
   "source": [
    "ξ_beta = sampleMeasure(N,myops[\"beta01\"])\n",
    "samples_beta = evaluatePCE(pce_beta,ξ_beta,myops[\"beta01\"])\n",
    "# samples_beta = samplePCE(N,pce_beta,myops[\"beta01\"])"
   ]
  },
  {
   "cell_type": "markdown",
   "metadata": {},
   "source": [
    "### Logistic"
   ]
  },
  {
   "cell_type": "code",
   "execution_count": null,
   "metadata": {},
   "outputs": [],
   "source": [
    "ξ_logistic = sampleMeasure(N,myops[\"logistic\"])\n",
    "samples_logistic = evaluatePCE(pce_logistic,ξ_logistic,myops[\"logistic\"])\n",
    "# samples_logistic = samplePCE(N,pce_logistic,myops[\"logistic\"])"
   ]
  }
 ],
 "metadata": {
  "kernelspec": {
   "display_name": "Julia 0.7.0",
   "language": "julia",
   "name": "julia-0.7"
  },
  "language_info": {
   "file_extension": ".jl",
   "mimetype": "application/julia",
   "name": "julia",
   "version": "0.7.0"
  }
 },
 "nbformat": 4,
 "nbformat_minor": 2
}
