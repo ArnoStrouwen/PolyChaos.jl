{
 "cells": [
  {
   "cell_type": "markdown",
   "metadata": {},
   "source": [
    "# [Common Random Variables](@id CommonRandomVariables)\n",
    "Polynomial chaos expansion (PCE) is a Hilbert space technique for random variables with finite variance.\n",
    "Mathematically equivalent to Fourier series expansions for periodic signals, PCE allows to characterize a random variable in terms of its PCE coefficients (aka Fourier coefficients).\n",
    "That is, the PCE of a random variable $\\mathsf{x}$ is given by\n",
    "$$\n",
    "\\mathsf{x} = \\sum_{i=0}^L x_i \\phi_i,\n",
    "$$\n",
    "where $x_i$ are the so-called PCE coefficients, and $\\phi_i$ are the orthogonal polynomials that are orthogonal relative to the probability density function of $\\mathsf{x}$.\n",
    "\n",
    "This tutorial walks you through the PCE of common random variables, namely Gaussian (`gaussian`), Beta (`beta01`), Uniform(`uniform01`), Logistic (`logistic`), and shows how they are implemented in `PolyChaos`.\n",
    "\n",
    "## Construction of Basis\n",
    "\n",
    "We begin by specifying the names and, if any, parameters for the uncertainties."
   ]
  },
  {
   "cell_type": "code",
   "execution_count": 4,
   "metadata": {},
   "outputs": [
    {
     "name": "stderr",
     "output_type": "stream",
     "text": [
      "┌ Info: Precompiling PolyChaos [252d28ca-197a-11e9-2b0c-c1b775e6c700]\n",
      "└ @ Base loading.jl:1187\n"
     ]
    },
    {
     "data": {
      "text/plain": [
       "4-element Array{Dict,1}:\n",
       " Dict{Any,Any}()                  \n",
       " Dict(:shape_b=>2.2,:shape_a=>1.3)\n",
       " Dict{Any,Any}()                  \n",
       " Dict{Any,Any}()                  "
      ]
     },
     "execution_count": 4,
     "metadata": {},
     "output_type": "execute_result"
    }
   ],
   "source": [
    "using PolyChaos\n",
    "α, β = 1.3, 2.2\n",
    "polynames = [\"gaussian\", \"beta01\", \"uniform01\", \"logistic\"]\n",
    "pars = [Dict(), Dict(:shape_a=>α,:shape_b=>β), Dict(), Dict()]"
   ]
  },
  {
   "cell_type": "markdown",
   "metadata": {},
   "source": [
    "The orthogonal polynomials are constructed using `OrthoPoly` (here of degree at most `d`, and stored in the dictionary `myops`)."
   ]
  },
  {
   "cell_type": "code",
   "execution_count": 5,
   "metadata": {},
   "outputs": [],
   "source": [
    "d = 6\n",
    "myops = Dict()\n",
    "for (i,name) in enumerate(polynames)\n",
    "    myops[name]=OrthoPoly(name,d,pars[i])\n",
    "end"
   ]
  },
  {
   "cell_type": "markdown",
   "metadata": {},
   "source": [
    "For example, let's evaluate the Gaussian basis polynomials at some points"
   ]
  },
  {
   "cell_type": "code",
   "execution_count": 6,
   "metadata": {},
   "outputs": [
    {
     "data": {
      "text/plain": [
       "4-element Array{Array{Float64,1},1}:\n",
       " [1.0, 1.0, 1.0, 1.0, 1.0, 1.0, 1.0, 1.0, 1.0, 1.0]                                                      \n",
       " [-0.902351, -0.989155, 0.557426, 0.558577, -0.998611, 0.167068, 0.0110701, 1.63056, -0.778155, -0.58085]\n",
       " [2.42364, 2.93505, -3.91898, -3.9223, 2.99167, -2.64036, -2.04416, -5.86352, 1.71814, 0.660788]         \n",
       " [-10.7479, -14.5137, 22.4782, 22.4846, -14.9375, 18.6769, 16.1978, 17.7805, -5.74427, 1.30008]          "
      ]
     },
     "execution_count": 6,
     "metadata": {},
     "output_type": "execute_result"
    }
   ],
   "source": [
    "points, degrees = randn(10), 0:2:d\n",
    "op_gauss=myops[\"gaussian\"]\n",
    "[ evaluate(degree,points,op_gauss) for degree in degrees ]"
   ]
  },
  {
   "cell_type": "markdown",
   "metadata": {},
   "source": [
    "If a quadrature rule is required, this can be added by calling `OrthoPolyQ`"
   ]
  },
  {
   "cell_type": "code",
   "execution_count": 8,
   "metadata": {},
   "outputs": [],
   "source": [
    "myopqs = Dict()\n",
    "for (i,name) in enumerate(polynames)\n",
    "    myopqs[name]=OrthoPolyQ(name,d,pars[i])\n",
    "end"
   ]
  },
  {
   "cell_type": "markdown",
   "metadata": {},
   "source": [
    "## Finding PCE Coefficients\n",
    "Having constructed the orthogonal bases, the question remains how to find the PCE coefficients for the common random variables.\n",
    "Every random variable can be characterized exactly by two PCE coefficients.\n",
    "For a Gaussian random variable, this is familiar: the mean and the variance suffice to describe a Gaussian random variable entirely.\n",
    "The same is true for any random variable of finite variance given the right basis.\n",
    "The function `convert2affinePCE` provides the first two PCE coefficients (hence the name affine) for the common random variables.\n",
    "\n",
    "### Gaussian\n",
    "Given the Gaussian random variable $\\mathsf{x} \\sim \\mathcal{N}(\\mu, \\sigma^2)$ with $\\sigma > 0$, the affine PCE coefficients are"
   ]
  },
  {
   "cell_type": "code",
   "execution_count": 9,
   "metadata": {},
   "outputs": [
    {
     "data": {
      "text/plain": [
       "2-element Array{Float64,1}:\n",
       " 2.0\n",
       " 0.2"
      ]
     },
     "execution_count": 9,
     "metadata": {},
     "output_type": "execute_result"
    }
   ],
   "source": [
    "# Gaussian\n",
    "μ, σ = 2., 0.2\n",
    "pce_gaussian = convert2affinePCE(\"gaussian\",μ,σ)\n",
    "# Uniform"
   ]
  },
  {
   "cell_type": "markdown",
   "metadata": {},
   "source": [
    "### Uniform\n",
    "Given the uniform random variable $\\mathsf{x} \\sim \\mathcal{U}(a, b)$ with finite support $a<b$, the affine PCE coefficients are"
   ]
  },
  {
   "cell_type": "code",
   "execution_count": 10,
   "metadata": {},
   "outputs": [
    {
     "data": {
      "text/plain": [
       "2-element Array{Float64,1}:\n",
       " 0.45\n",
       " 1.5 "
      ]
     },
     "execution_count": 10,
     "metadata": {},
     "output_type": "execute_result"
    }
   ],
   "source": [
    "a, b = -0.3, 1.2\n",
    "convert2affinePCE(\"uniform01\",a,b)"
   ]
  },
  {
   "cell_type": "markdown",
   "metadata": {},
   "source": [
    "Instead, if the expected value and standard deviation are known, the affine PCE coefficients of the uniform random variable are"
   ]
  },
  {
   "cell_type": "code",
   "execution_count": 11,
   "metadata": {},
   "outputs": [
    {
     "data": {
      "text/plain": [
       "2-element Array{Float64,1}:\n",
       " 2.0               \n",
       " 0.6928203230275509"
      ]
     },
     "execution_count": 11,
     "metadata": {},
     "output_type": "execute_result"
    }
   ],
   "source": [
    "pce_uniform = convert2affinePCE(\"uniform01\",μ,σ;kind=:μσ)\n",
    "# notice that the zero-order coefficient IS equivalent to the expected value μ"
   ]
  },
  {
   "cell_type": "markdown",
   "metadata": {},
   "source": [
    "### Beta\n",
    "Given the Beta random variable $\\mathsf{x} \\sim \\mathcal{B}(a, b, \\alpha, \\beta)$ with finite support $a<b$ and shape parameters $\\alpha, \\beta > 0$, the affine PCE coefficients are"
   ]
  },
  {
   "cell_type": "code",
   "execution_count": 12,
   "metadata": {},
   "outputs": [
    {
     "data": {
      "text/plain": [
       "2-element Array{Float64,1}:\n",
       " 0.2571428571428572\n",
       " 1.5               "
      ]
     },
     "execution_count": 12,
     "metadata": {},
     "output_type": "execute_result"
    }
   ],
   "source": [
    "convert2affinePCE(\"beta01\",a,b,Dict(:shape_a=>α,:shape_b=>β))"
   ]
  },
  {
   "cell_type": "markdown",
   "metadata": {},
   "source": [
    "Instead, if the expected value and standard deviation are known, the affine PCE coefficients of the uniform random variable are"
   ]
  },
  {
   "cell_type": "code",
   "execution_count": 13,
   "metadata": {},
   "outputs": [
    {
     "data": {
      "text/plain": [
       "2-element Array{Float64,1}:\n",
       " 2.0               \n",
       " 0.8780541105074454"
      ]
     },
     "execution_count": 13,
     "metadata": {},
     "output_type": "execute_result"
    }
   ],
   "source": [
    "pce_beta = convert2affinePCE(\"beta01\",μ,σ,Dict(:shape_a=>α,:shape_b=>β); kind=:μσ)"
   ]
  },
  {
   "cell_type": "markdown",
   "metadata": {},
   "source": [
    "### Logistic"
   ]
  },
  {
   "cell_type": "markdown",
   "metadata": {},
   "source": [
    "Given the logstic random variable $\\mathsf{x} \\sim \\mathcal{L}(a_1,a_2)$ where $a_2>0$ with the probability density function\n",
    "$$\n",
    "\\rho(t) = \\frac{1}{4 a_2} \\, \\operatorname{sech}^2 \\left(\\frac{t-a_1}{2a_2}\\right)\n",
    "$$\n",
    "the affine PCE coefficients of the uniform random variable are"
   ]
  },
  {
   "cell_type": "code",
   "execution_count": 14,
   "metadata": {},
   "outputs": [
    {
     "data": {
      "text/plain": [
       "2-element Array{Float64,1}:\n",
       " 2.0                \n",
       " 0.11026577908435842"
      ]
     },
     "execution_count": 14,
     "metadata": {},
     "output_type": "execute_result"
    }
   ],
   "source": [
    "a1, a2 = μ, sqrt(3)*σ/pi\n",
    "pce_logistic = convert2affinePCE(\"logistic\",a1,a2)"
   ]
  },
  {
   "cell_type": "markdown",
   "metadata": {},
   "source": [
    "## Moments\n",
    "It is a key feature of PCE to compute moments from the PCE coefficients alone; no sampling is required.\n",
    "\n",
    "### Gaussian"
   ]
  },
  {
   "cell_type": "code",
   "execution_count": 15,
   "metadata": {},
   "outputs": [
    {
     "data": {
      "text/plain": [
       "(2.0, 0.2)"
      ]
     },
     "execution_count": 15,
     "metadata": {},
     "output_type": "execute_result"
    }
   ],
   "source": [
    "mean(pce_gaussian,myops[\"gaussian\"]), std(pce_gaussian,myops[\"gaussian\"])"
   ]
  },
  {
   "cell_type": "markdown",
   "metadata": {},
   "source": [
    "### Uniform"
   ]
  },
  {
   "cell_type": "code",
   "execution_count": 16,
   "metadata": {},
   "outputs": [
    {
     "data": {
      "text/plain": [
       "(2.0, 0.19999999999999998)"
      ]
     },
     "execution_count": 16,
     "metadata": {},
     "output_type": "execute_result"
    }
   ],
   "source": [
    "mean(pce_uniform,myops[\"uniform01\"]), std(pce_uniform,myops[\"uniform01\"])"
   ]
  },
  {
   "cell_type": "markdown",
   "metadata": {},
   "source": [
    "### Beta"
   ]
  },
  {
   "cell_type": "code",
   "execution_count": 17,
   "metadata": {},
   "outputs": [
    {
     "data": {
      "text/plain": [
       "(2.0, 0.20000000000000004)"
      ]
     },
     "execution_count": 17,
     "metadata": {},
     "output_type": "execute_result"
    }
   ],
   "source": [
    "mean(pce_beta,myops[\"beta01\"]), std(pce_beta,myops[\"beta01\"])"
   ]
  },
  {
   "cell_type": "markdown",
   "metadata": {},
   "source": [
    "### Logistic"
   ]
  },
  {
   "cell_type": "code",
   "execution_count": 18,
   "metadata": {},
   "outputs": [
    {
     "data": {
      "text/plain": [
       "(2.0, 0.2)"
      ]
     },
     "execution_count": 18,
     "metadata": {},
     "output_type": "execute_result"
    }
   ],
   "source": [
    "mean(pce_logistic,myops[\"logistic\"]), std(pce_logistic,myops[\"logistic\"])"
   ]
  },
  {
   "cell_type": "markdown",
   "metadata": {},
   "source": [
    "## Sampling\n",
    "Having found the PCE coefficients, it may be useful to sample the random variables.\n",
    "That means, find $N$ realizations of the random variable that obey the random variable's probability density function.\n",
    "This is done in two steps:\n",
    "1. Draw $N$ samples from the measure (`sampleMeasure()`), and then\n",
    "2. Evaluate the basis polynomials and multiply times the PCE coefficients, i.e. $\\sum_{i=0}^L x_i \\phi_i(\\xi_j)$ where $\\xi_j$ is the $j$-th sample from the measure (`evaluatePCE()`).\n",
    "\n",
    "Both steps are combined in the function `samplepCE()`.\n",
    "\n",
    "### Gaussian"
   ]
  },
  {
   "cell_type": "code",
   "execution_count": null,
   "metadata": {},
   "outputs": [],
   "source": [
    "using Statistics\n",
    "N = 1000\n",
    "ξ_gaussian = sampleMeasure(N,myops[\"gaussian\"])\n",
    "samples_gaussian = evaluatePCE(pce_gaussian,ξ_gaussian,myops[\"gaussian\"])\n",
    "# samplePCE(N,pce_gaussian,myops[\"gaussian\"])"
   ]
  },
  {
   "cell_type": "markdown",
   "metadata": {},
   "source": [
    "### Uniform"
   ]
  },
  {
   "cell_type": "code",
   "execution_count": null,
   "metadata": {},
   "outputs": [],
   "source": [
    "ξ_uniform = sampleMeasure(N,myops[\"uniform01\"])\n",
    "samples_uniform = evaluatePCE(pce_uniform,ξ_uniform,myops[\"uniform01\"])\n",
    "# samples_uniform = samplePCE(N,pce_uniform,myops[\"uniform01\"])"
   ]
  },
  {
   "cell_type": "markdown",
   "metadata": {},
   "source": [
    "### Beta"
   ]
  },
  {
   "cell_type": "code",
   "execution_count": null,
   "metadata": {},
   "outputs": [],
   "source": [
    "ξ_beta = sampleMeasure(N,myops[\"beta01\"])\n",
    "samples_beta = evaluatePCE(pce_beta,ξ_beta,myops[\"beta01\"])\n",
    "# samples_beta = samplePCE(N,pce_beta,myops[\"beta01\"])"
   ]
  },
  {
   "cell_type": "markdown",
   "metadata": {},
   "source": [
    "### Logistic"
   ]
  },
  {
   "cell_type": "code",
   "execution_count": null,
   "metadata": {},
   "outputs": [],
   "source": [
    "ξ_logistic = sampleMeasure(N,myops[\"logistic\"])\n",
    "samples_logistic = evaluatePCE(pce_logistic,ξ_logistic,myops[\"logistic\"])\n",
    "# samples_logistic = samplePCE(N,pce_logistic,myops[\"logistic\"])"
   ]
  }
 ],
 "metadata": {
  "kernelspec": {
   "display_name": "Julia 0.7.0",
   "language": "julia",
   "name": "julia-0.7"
  },
  "language_info": {
   "file_extension": ".jl",
   "mimetype": "application/julia",
   "name": "julia",
   "version": "0.7.0"
  }
 },
 "nbformat": 4,
 "nbformat_minor": 2
}
