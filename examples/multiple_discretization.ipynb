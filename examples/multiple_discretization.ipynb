{
 "cells": [
  {
   "cell_type": "markdown",
   "metadata": {},
   "source": [
    "# Multiple Discretization\n",
    "\n",
    "This tutorial shows how to compute recurrence coefficients for non-trivial weight functions, and how they are being used for quadrature.\n",
    "The method we use is called *multiple discretization*, and follows W. Gautschi's book \"Orthogonal Polynomials: Computation and Approximation\", specifically Section 2.2.4, and Example 2.38.\n",
    "\n",
    "Suppose we have the weight function\n",
    "$$\n",
    "\\forall t \\in [-1,1], \\gamma \\in [0,1]: \\quad w(t;\\gamma) = \\gamma + (1-\\gamma) \\frac{1}{\\sqrt{1-t^2}},\n",
    "$$\n",
    "and we would like to solve\n",
    "$$\n",
    "\\int_{-1}^{1} f(t) w(t;c) \\mathrm{d}t = \\sum_{\\nu=1}^{N} f(\\tau_\\nu) w_\\nu\n",
    "$$\n",
    "by some quadrature rule.\n",
    "We will see that ad-hoc quadrature rules will fail to solve the integral even for the simplest choice $f \\equiv 1$.\n",
    "However, finding the recurrence coefficients of the underlying orthogonal polynomials, and then finding the quadrature rule will be the way to go.\n",
    "\n",
    "Let us first try to solve the integral for $f \\equiv 1$ by Fejer's rule."
   ]
  },
  {
   "cell_type": "code",
   "execution_count": 2,
   "metadata": {},
   "outputs": [
    {
     "name": "stdout",
     "output_type": "stream",
     "text": [
      "Fejer error:\t0.00034489625618583375\twith 1000 nodes"
     ]
    }
   ],
   "source": [
    "using PolyChaos, LinearAlgebra\n",
    "γ = 0.5;\n",
    "int_exact = 1+pi/2; # exact value of the integral\n",
    "function my_w(t::Float64,γ::Float64)\n",
    "    γ + (1-γ)*1/sqrt(1-t^2)\n",
    "end\n",
    "\n",
    "N = 1000;\n",
    "n,w = fejer(N);\n",
    "int_fejer = dot(w,my_w.(n,γ))\n",
    "print(\"Fejer error:\\t$(abs(int_exact-int_fejer))\\twith $N nodes\")"
   ]
  },
  {
   "cell_type": "markdown",
   "metadata": {},
   "source": [
    "Clearly, that is not satisfying.\n",
    "Well, the term $\\gamma$ of the weight $w$ makes us think of Gauss-Legendre integration, so let's try it instead."
   ]
  },
  {
   "cell_type": "code",
   "execution_count": 3,
   "metadata": {},
   "outputs": [
    {
     "name": "stdout",
     "output_type": "stream",
     "text": [
      "Gauss-Legendre error:\t1.569226315865443\twith 1000 nodes"
     ]
    }
   ],
   "source": [
    "function quad_gaussleg(N::Int,γ::Float64)\n",
    "    a,b=rm_legendre(N)\n",
    "    n,w=golubwelsch(a,b)\n",
    "end\n",
    "n,w = quad_gaussleg(N,γ)\n",
    "int_gaussleg = dot(w,γ .+ (1-γ)/sqrt.(1 .- n.^2))\n",
    "print(\"Gauss-Legendre error:\\t$(abs(int_exact-int_gaussleg))\\twith $N nodes\")"
   ]
  },
  {
   "cell_type": "markdown",
   "metadata": {},
   "source": [
    "Even worse!\n",
    "Well, we can factor out $\\frac{1}{\\sqrt{1-t^2}}$, making the integral amenable to a Gauss-Chebyshev rule.\n",
    "So, let's give it anothery try."
   ]
  },
  {
   "cell_type": "code",
   "execution_count": 4,
   "metadata": {},
   "outputs": [
    {
     "name": "stdout",
     "output_type": "stream",
     "text": [
      "Gauss-Chebyshev error:\t4.112336209338707e-7\twith 1000 nodes"
     ]
    }
   ],
   "source": [
    "function quad_gausscheb(N::Int64,γ::Float64)\n",
    "    a,b = rm_chebyshev1(N)\n",
    "    n,w = golubwelsch(a,b)\n",
    "end\n",
    "n,w = quad_gausscheb(N,γ)\n",
    "int_gausscheb = dot(w,γ .+ (1-γ)*sqrt.(1 .- n.^2))\n",
    "# int=sum(xw(:,2).*(1+sqrt(1-xw(:,1).^2)))\n",
    "print(\"Gauss-Chebyshev error:\\t$(abs(int_exact-int_gausscheb))\\twith $N nodes\")"
   ]
  },
  {
   "cell_type": "markdown",
   "metadata": {},
   "source": [
    "Okay, that's better, but it took us a lot of nodes to get this result.\n",
    "Is there a different way?\n",
    "Indeed, there is.\n",
    "As we have noticed, the weight $w$ has a lot in common with Gauss-Legendre *and* Gauss-Chebyshev.\n",
    "We can decompose the integral as follows\n",
    "$$\n",
    "\\int_{-1}^1 f(t) w(t) \\mathrm{d}t = \\sum_{i=1}^{m} \\int_{-1}^{1} f(t) w_i(t) \\mathrm{d} t,\n",
    "$$\n",
    "with\n",
    "$$\n",
    "\\begin{align*}\n",
    "w_1(t) &= \\gamma \\\\\n",
    "w_2(t) &= (1-\\gamma) \\frac{1}{\\sqrt{1-t^2}}.\n",
    "\\end{align*}\n",
    "$$\n",
    "To the weight $w_1$ we can apply Gauss-Legendre quadrature, to the weight $w_2$ we can apply Gauss-Chebyshev quadrature (with tiny modifications).\n",
    "This *discretization* of the measure can be used in our favor.\n",
    "The function `mcdiscretization()` takes the $m$ discretization rules as an input"
   ]
  },
  {
   "cell_type": "code",
   "execution_count": 5,
   "metadata": {},
   "outputs": [
    {
     "name": "stdout",
     "output_type": "stream",
     "text": [
      "Discretization error:\t5.773159728050814e-15\twith 8 nodes"
     ]
    }
   ],
   "source": [
    "function quad_gaussleg_mod(N::Int,γ::Float64)\n",
    "    n,w = quad_gaussleg(N,γ)\n",
    "    return n,γ*w\n",
    "end\n",
    "function quad_gausscheb_mod(N::Int,γ::Float64)\n",
    "            n,w = quad_gausscheb(N,γ)\n",
    "    return n,(1-γ)*w\n",
    "end\n",
    "\n",
    "N = 8\n",
    "a,b = mcdiscretization(N,[n->quad_gaussleg_mod(n,γ); n->quad_gausscheb_mod(n,γ)])\n",
    "n,w = golubwelsch(a,b)\n",
    "int_mc = sum(w)\n",
    "print(\"Discretization error:\\t$(abs(int_exact-int_mc))\\twith $N nodes\")"
   ]
  },
  {
   "cell_type": "markdown",
   "metadata": {},
   "source": [
    "Et voilà, no error with fewer nodes.\n",
    "(For this example, we'd need in fact just a single node.)\n",
    "\n",
    "The function `mcdiscretization()` is able to construct the recurrence coefficients of the orthogonal polynomials relative to the weight $w$.\n",
    "Let's inspect the values of the recurrence coefficients a little more.\n",
    "For $\\gamma = 0$, we are in the world of Chebyshev polynomials, for $\\gamma = 1$, we enter the realm of Legendre polynomials. And in between?\n",
    "That's exactly where the weight $w$ comes in: it can be thought of as an interpolatory weight, interpolating Legendre polynomials and Chebyshev polynomials.\n",
    "Let's verify this by plotting the recurrence coefficients for several values of $\\gamma$.\n",
    "\n"
   ]
  },
  {
   "cell_type": "code",
   "execution_count": 6,
   "metadata": {},
   "outputs": [
    {
     "data": {
      "text/plain": [
       "8-element Array{Float64,1}:\n",
       "  1.2434497875801753e-14\n",
       "  3.1086244689504383e-15\n",
       " -7.494005416219807e-16 \n",
       "  5.551115123125783e-16 \n",
       "  1.0547118733938987e-15\n",
       "  4.440892098500626e-16 \n",
       " -1.3877787807814457e-15\n",
       "  6.661338147750939e-16 "
      ]
     },
     "execution_count": 6,
     "metadata": {},
     "output_type": "execute_result"
    }
   ],
   "source": [
    "Γ = 0:0.1:1;\n",
    "ab = [ mcdiscretization(N,[n->quad_gaussleg_mod(n,gam); n->quad_gausscheb_mod(n,gam)]) for gam in Γ ];\n",
    "bb = hcat([ ab[i][2] for i=1:length(Γ)]...);\n",
    "b_leg = rm_legendre(N)[2];\n",
    "b_cheb = rm_chebyshev1(N)[2]\n",
    "bb[:,1]-b_cheb"
   ]
  },
  {
   "cell_type": "code",
   "execution_count": 7,
   "metadata": {},
   "outputs": [
    {
     "data": {
      "text/plain": [
       "8-element Array{Float64,1}:\n",
       " -4.440892098500626e-16 \n",
       "  3.3306690738754696e-16\n",
       " -8.326672684688674e-16 \n",
       "  4.440892098500626e-16 \n",
       "  7.771561172376096e-16 \n",
       "  2.220446049250313e-16 \n",
       " -9.992007221626409e-16 \n",
       "  9.43689570931383e-16  "
      ]
     },
     "execution_count": 7,
     "metadata": {},
     "output_type": "execute_result"
    }
   ],
   "source": [
    "bb[:,end]-b_leg"
   ]
  },
  {
   "cell_type": "markdown",
   "metadata": {},
   "source": [
    "Let's plot these values to get a better feeling."
   ]
  },
  {
   "cell_type": "code",
   "execution_count": 8,
   "metadata": {},
   "outputs": [
    {
     "name": "stderr",
     "output_type": "stream",
     "text": [
      "┌ Warning: The default `strides(a::AbstractArray)` implementation is deprecated for general arrays.\n",
      "│ Specialize `strides(::Adjoint)` if `Adjoint` indeed uses a strided representation in memory.\n",
      "│ Warning: inappropriately implementing this method for an array type that does not use strided\n",
      "│ storage may lead to incorrect results or segfaults.\n",
      "│   caller = stride at abstractarray.jl:350 [inlined]\n",
      "└ @ Core ./abstractarray.jl:350\n",
      "┌ Warning: The default `strides(a::AbstractArray)` implementation is deprecated for general arrays.\n",
      "│ Specialize `strides(::Adjoint)` if `Adjoint` indeed uses a strided representation in memory.\n",
      "│ Warning: inappropriately implementing this method for an array type that does not use strided\n",
      "│ storage may lead to incorrect results or segfaults.\n",
      "│   caller = ip:0x0\n",
      "└ @ Core :-1\n"
     ]
    },
    {
     "data": {
      "image/png": "[encoded data removed]",
      "text/plain": [
       "Figure(PyObject <Figure size 640x480 with 1 Axes>)"
      ]
     },
     "metadata": {},
     "output_type": "display_data"
    }
   ],
   "source": [
    "using PyPlot\n",
    "figure(1);\n",
    "grid(true);\n",
    "semilogy(Γ,bb');\n",
    "[ plot(0.,b_cheb[i],\"x\") for i=1:N ];\n",
    "[ plot(1.,b_leg[i],\"o\") for i=1:N ];\n",
    "ttl = latexstring(\"N=$N  Recurrence Coefficients Interpolating from Chebyshev to Legendre\");\n",
    "xlabel(L\"\\gamma\");\n",
    "ylabel(L\"\\beta\");\n",
    "title(\"N=$N β-Recurrence Coefficients Interpolating from Chebyshev to Legendre\");"
   ]
  },
  {
   "cell_type": "markdown",
   "metadata": {},
   "source": [
    "The crosses denote the values of the β recursion coefficients for Chebyshev polynomials; the circles the β recursion coefficients for Legendre polynomials.\n",
    "The interpolating line in between stands for the β recursion coefficients of $w(t;\\gamma)$."
   ]
  }
 ],
 "metadata": {
  "kernelspec": {
   "display_name": "Julia 0.7.0",
   "language": "julia",
   "name": "julia-0.7"
  },
  "language_info": {
   "file_extension": ".jl",
   "mimetype": "application/julia",
   "name": "julia",
   "version": "0.7.0"
  }
 },
 "nbformat": 4,
 "nbformat_minor": 2
}
